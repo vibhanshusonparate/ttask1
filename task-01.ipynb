{
 "cells": [
  {
   "cell_type": "code",
   "execution_count": 2,
   "id": "f6b63747-a425-4b11-8ebf-0d96f7b15034",
   "metadata": {},
   "outputs": [
    {
     "name": "stdout",
     "output_type": "stream",
     "text": [
      "Path to dataset files: C:\\Users\\ASUS\\.cache\\kagglehub\\datasets\\ahmedmohamed2003\\retail-store-sales-dirty-for-data-cleaning\\versions\\1\n"
     ]
    }
   ],
   "source": [
    "import kagglehub\n",
    "\n",
    "# Download latest version\n",
    "path = kagglehub.dataset_download(\"ahmedmohamed2003/retail-store-sales-dirty-for-data-cleaning\")\n",
    "\n",
    "print(\"Path to dataset files:\", path)"
   ]
  },
  {
   "cell_type": "code",
   "execution_count": 2,
   "id": "efc14db8-d0dc-4670-a3cb-56f0d928fb41",
   "metadata": {},
   "outputs": [
    {
     "data": {
      "text/html": [
       "<div>\n",
       "<style scoped>\n",
       "    .dataframe tbody tr th:only-of-type {\n",
       "        vertical-align: middle;\n",
       "    }\n",
       "\n",
       "    .dataframe tbody tr th {\n",
       "        vertical-align: top;\n",
       "    }\n",
       "\n",
       "    .dataframe thead th {\n",
       "        text-align: right;\n",
       "    }\n",
       "</style>\n",
       "<table border=\"1\" class=\"dataframe\">\n",
       "  <thead>\n",
       "    <tr style=\"text-align: right;\">\n",
       "      <th></th>\n",
       "      <th>Transaction ID</th>\n",
       "      <th>Customer ID</th>\n",
       "      <th>Category</th>\n",
       "      <th>Item</th>\n",
       "      <th>Price Per Unit</th>\n",
       "      <th>Quantity</th>\n",
       "      <th>Total Spent</th>\n",
       "      <th>Payment Method</th>\n",
       "      <th>Location</th>\n",
       "      <th>Transaction Date</th>\n",
       "      <th>Discount Applied</th>\n",
       "    </tr>\n",
       "  </thead>\n",
       "  <tbody>\n",
       "    <tr>\n",
       "      <th>0</th>\n",
       "      <td>TXN_6867343</td>\n",
       "      <td>CUST_09</td>\n",
       "      <td>Patisserie</td>\n",
       "      <td>Item_10_PAT</td>\n",
       "      <td>18.5</td>\n",
       "      <td>10.0</td>\n",
       "      <td>185.0</td>\n",
       "      <td>Digital Wallet</td>\n",
       "      <td>Online</td>\n",
       "      <td>2024-04-08</td>\n",
       "      <td>True</td>\n",
       "    </tr>\n",
       "    <tr>\n",
       "      <th>1</th>\n",
       "      <td>TXN_3731986</td>\n",
       "      <td>CUST_22</td>\n",
       "      <td>Milk Products</td>\n",
       "      <td>Item_17_MILK</td>\n",
       "      <td>29.0</td>\n",
       "      <td>9.0</td>\n",
       "      <td>261.0</td>\n",
       "      <td>Digital Wallet</td>\n",
       "      <td>Online</td>\n",
       "      <td>2023-07-23</td>\n",
       "      <td>True</td>\n",
       "    </tr>\n",
       "    <tr>\n",
       "      <th>2</th>\n",
       "      <td>TXN_9303719</td>\n",
       "      <td>CUST_02</td>\n",
       "      <td>Butchers</td>\n",
       "      <td>Item_12_BUT</td>\n",
       "      <td>21.5</td>\n",
       "      <td>2.0</td>\n",
       "      <td>43.0</td>\n",
       "      <td>Credit Card</td>\n",
       "      <td>Online</td>\n",
       "      <td>2022-10-05</td>\n",
       "      <td>False</td>\n",
       "    </tr>\n",
       "    <tr>\n",
       "      <th>3</th>\n",
       "      <td>TXN_9458126</td>\n",
       "      <td>CUST_06</td>\n",
       "      <td>Beverages</td>\n",
       "      <td>Item_16_BEV</td>\n",
       "      <td>27.5</td>\n",
       "      <td>9.0</td>\n",
       "      <td>247.5</td>\n",
       "      <td>Credit Card</td>\n",
       "      <td>Online</td>\n",
       "      <td>2022-05-07</td>\n",
       "      <td>NaN</td>\n",
       "    </tr>\n",
       "    <tr>\n",
       "      <th>4</th>\n",
       "      <td>TXN_4575373</td>\n",
       "      <td>CUST_05</td>\n",
       "      <td>Food</td>\n",
       "      <td>Item_6_FOOD</td>\n",
       "      <td>12.5</td>\n",
       "      <td>7.0</td>\n",
       "      <td>87.5</td>\n",
       "      <td>Digital Wallet</td>\n",
       "      <td>Online</td>\n",
       "      <td>2022-10-02</td>\n",
       "      <td>False</td>\n",
       "    </tr>\n",
       "  </tbody>\n",
       "</table>\n",
       "</div>"
      ],
      "text/plain": [
       "  Transaction ID Customer ID       Category          Item  Price Per Unit  \\\n",
       "0    TXN_6867343     CUST_09     Patisserie   Item_10_PAT            18.5   \n",
       "1    TXN_3731986     CUST_22  Milk Products  Item_17_MILK            29.0   \n",
       "2    TXN_9303719     CUST_02       Butchers   Item_12_BUT            21.5   \n",
       "3    TXN_9458126     CUST_06      Beverages   Item_16_BEV            27.5   \n",
       "4    TXN_4575373     CUST_05           Food   Item_6_FOOD            12.5   \n",
       "\n",
       "   Quantity  Total Spent  Payment Method Location Transaction Date  \\\n",
       "0      10.0        185.0  Digital Wallet   Online       2024-04-08   \n",
       "1       9.0        261.0  Digital Wallet   Online       2023-07-23   \n",
       "2       2.0         43.0     Credit Card   Online       2022-10-05   \n",
       "3       9.0        247.5     Credit Card   Online       2022-05-07   \n",
       "4       7.0         87.5  Digital Wallet   Online       2022-10-02   \n",
       "\n",
       "  Discount Applied  \n",
       "0             True  \n",
       "1             True  \n",
       "2            False  \n",
       "3              NaN  \n",
       "4            False  "
      ]
     },
     "execution_count": 2,
     "metadata": {},
     "output_type": "execute_result"
    }
   ],
   "source": [
    "import pandas as pd\n",
    "df = pd.read_csv('retail_store_sales.csv')\n",
    "df.head()"
   ]
  },
  {
   "cell_type": "code",
   "execution_count": 23,
   "id": "fe7eb5c0-58bf-4c64-9151-d9a5fbd645b8",
   "metadata": {},
   "outputs": [
    {
     "data": {
      "text/plain": [
       "(12575, 11)"
      ]
     },
     "execution_count": 23,
     "metadata": {},
     "output_type": "execute_result"
    }
   ],
   "source": [
    "df.shape"
   ]
  },
  {
   "cell_type": "code",
   "execution_count": 7,
   "id": "dbfa78fb-fe3f-4c52-9b71-206d8541d739",
   "metadata": {},
   "outputs": [
    {
     "data": {
      "text/plain": [
       "Index(['transaction_id', 'customer_id', 'category', 'item', 'price_per_unit',\n",
       "       'quantity', 'total_spent', 'payment_method', 'location',\n",
       "       'transaction_date', 'discount_applied'],\n",
       "      dtype='object')"
      ]
     },
     "execution_count": 7,
     "metadata": {},
     "output_type": "execute_result"
    }
   ],
   "source": [
    "df = df.rename(columns=lambda x: x.strip().lower().replace(' ', '_'))\n",
    "df.columns"
   ]
  },
  {
   "cell_type": "code",
   "execution_count": 8,
   "id": "6966f1fa-20a6-4a00-9393-f9cda123c93e",
   "metadata": {},
   "outputs": [
    {
     "name": "stdout",
     "output_type": "stream",
     "text": [
      "<class 'pandas.core.frame.DataFrame'>\n",
      "RangeIndex: 12575 entries, 0 to 12574\n",
      "Data columns (total 11 columns):\n",
      " #   Column            Non-Null Count  Dtype  \n",
      "---  ------            --------------  -----  \n",
      " 0   transaction_id    12575 non-null  object \n",
      " 1   customer_id       12575 non-null  object \n",
      " 2   category          12575 non-null  object \n",
      " 3   item              11362 non-null  object \n",
      " 4   price_per_unit    11966 non-null  float64\n",
      " 5   quantity          11971 non-null  float64\n",
      " 6   total_spent       11971 non-null  float64\n",
      " 7   payment_method    12575 non-null  object \n",
      " 8   location          12575 non-null  object \n",
      " 9   transaction_date  12575 non-null  object \n",
      " 10  discount_applied  8376 non-null   object \n",
      "dtypes: float64(3), object(8)\n",
      "memory usage: 1.1+ MB\n"
     ]
    }
   ],
   "source": [
    "df.info()\n"
   ]
  },
  {
   "cell_type": "code",
   "execution_count": 9,
   "id": "e8e69050-7741-49b0-90fa-b57fb0d7baa0",
   "metadata": {},
   "outputs": [
    {
     "name": "stdout",
     "output_type": "stream",
     "text": [
      "<class 'pandas.core.frame.DataFrame'>\n",
      "RangeIndex: 12575 entries, 0 to 12574\n",
      "Data columns (total 11 columns):\n",
      " #   Column            Non-Null Count  Dtype         \n",
      "---  ------            --------------  -----         \n",
      " 0   transaction_id    12575 non-null  object        \n",
      " 1   customer_id       12575 non-null  object        \n",
      " 2   category          12575 non-null  object        \n",
      " 3   item              11362 non-null  object        \n",
      " 4   price_per_unit    11966 non-null  float64       \n",
      " 5   quantity          11971 non-null  float64       \n",
      " 6   total_spent       11971 non-null  float64       \n",
      " 7   payment_method    12575 non-null  object        \n",
      " 8   location          12575 non-null  object        \n",
      " 9   transaction_date  12575 non-null  datetime64[ns]\n",
      " 10  discount_applied  8376 non-null   object        \n",
      "dtypes: datetime64[ns](1), float64(3), object(7)\n",
      "memory usage: 1.1+ MB\n"
     ]
    }
   ],
   "source": [
    "df['transaction_date'] = pd.to_datetime(df['transaction_date'])\n",
    "df.info()"
   ]
  },
  {
   "cell_type": "code",
   "execution_count": 14,
   "id": "8fa917f1-1aa4-4820-af6a-a637303b4ab5",
   "metadata": {},
   "outputs": [],
   "source": [
    "df_cleaned = df.dropna()"
   ]
  },
  {
   "cell_type": "code",
   "execution_count": 18,
   "id": "485c7dd2-fe8b-4974-9751-386c122ad237",
   "metadata": {},
   "outputs": [
    {
     "name": "stdout",
     "output_type": "stream",
     "text": [
      "[True False]\n"
     ]
    }
   ],
   "source": [
    "unique_values = df_cleaned['discount_applied'].unique()\n",
    "print(unique_values)"
   ]
  },
  {
   "cell_type": "code",
   "execution_count": 17,
   "id": "6c40dc9b-89eb-47b7-b2eb-4a3566c2a20f",
   "metadata": {},
   "outputs": [
    {
     "data": {
      "text/html": [
       "<div>\n",
       "<style scoped>\n",
       "    .dataframe tbody tr th:only-of-type {\n",
       "        vertical-align: middle;\n",
       "    }\n",
       "\n",
       "    .dataframe tbody tr th {\n",
       "        vertical-align: top;\n",
       "    }\n",
       "\n",
       "    .dataframe thead th {\n",
       "        text-align: right;\n",
       "    }\n",
       "</style>\n",
       "<table border=\"1\" class=\"dataframe\">\n",
       "  <thead>\n",
       "    <tr style=\"text-align: right;\">\n",
       "      <th></th>\n",
       "      <th>transaction_id</th>\n",
       "      <th>customer_id</th>\n",
       "      <th>category</th>\n",
       "      <th>item</th>\n",
       "      <th>price_per_unit</th>\n",
       "      <th>quantity</th>\n",
       "      <th>total_spent</th>\n",
       "      <th>payment_method</th>\n",
       "      <th>location</th>\n",
       "      <th>transaction_date</th>\n",
       "      <th>discount_applied</th>\n",
       "    </tr>\n",
       "  </thead>\n",
       "  <tbody>\n",
       "    <tr>\n",
       "      <th>0</th>\n",
       "      <td>TXN_6867343</td>\n",
       "      <td>CUST_09</td>\n",
       "      <td>Patisserie</td>\n",
       "      <td>Item_10_PAT</td>\n",
       "      <td>18.5</td>\n",
       "      <td>10.0</td>\n",
       "      <td>185.0</td>\n",
       "      <td>Digital Wallet</td>\n",
       "      <td>Online</td>\n",
       "      <td>2024-04-08</td>\n",
       "      <td>True</td>\n",
       "    </tr>\n",
       "    <tr>\n",
       "      <th>1</th>\n",
       "      <td>TXN_3731986</td>\n",
       "      <td>CUST_22</td>\n",
       "      <td>Milk Products</td>\n",
       "      <td>Item_17_MILK</td>\n",
       "      <td>29.0</td>\n",
       "      <td>9.0</td>\n",
       "      <td>261.0</td>\n",
       "      <td>Digital Wallet</td>\n",
       "      <td>Online</td>\n",
       "      <td>2023-07-23</td>\n",
       "      <td>True</td>\n",
       "    </tr>\n",
       "    <tr>\n",
       "      <th>2</th>\n",
       "      <td>TXN_9303719</td>\n",
       "      <td>CUST_02</td>\n",
       "      <td>Butchers</td>\n",
       "      <td>Item_12_BUT</td>\n",
       "      <td>21.5</td>\n",
       "      <td>2.0</td>\n",
       "      <td>43.0</td>\n",
       "      <td>Credit Card</td>\n",
       "      <td>Online</td>\n",
       "      <td>2022-10-05</td>\n",
       "      <td>False</td>\n",
       "    </tr>\n",
       "    <tr>\n",
       "      <th>4</th>\n",
       "      <td>TXN_4575373</td>\n",
       "      <td>CUST_05</td>\n",
       "      <td>Food</td>\n",
       "      <td>Item_6_FOOD</td>\n",
       "      <td>12.5</td>\n",
       "      <td>7.0</td>\n",
       "      <td>87.5</td>\n",
       "      <td>Digital Wallet</td>\n",
       "      <td>Online</td>\n",
       "      <td>2022-10-02</td>\n",
       "      <td>False</td>\n",
       "    </tr>\n",
       "    <tr>\n",
       "      <th>6</th>\n",
       "      <td>TXN_3652209</td>\n",
       "      <td>CUST_07</td>\n",
       "      <td>Food</td>\n",
       "      <td>Item_1_FOOD</td>\n",
       "      <td>5.0</td>\n",
       "      <td>8.0</td>\n",
       "      <td>40.0</td>\n",
       "      <td>Credit Card</td>\n",
       "      <td>In-store</td>\n",
       "      <td>2023-06-10</td>\n",
       "      <td>True</td>\n",
       "    </tr>\n",
       "  </tbody>\n",
       "</table>\n",
       "</div>"
      ],
      "text/plain": [
       "  transaction_id customer_id       category          item  price_per_unit  \\\n",
       "0    TXN_6867343     CUST_09     Patisserie   Item_10_PAT            18.5   \n",
       "1    TXN_3731986     CUST_22  Milk Products  Item_17_MILK            29.0   \n",
       "2    TXN_9303719     CUST_02       Butchers   Item_12_BUT            21.5   \n",
       "4    TXN_4575373     CUST_05           Food   Item_6_FOOD            12.5   \n",
       "6    TXN_3652209     CUST_07           Food   Item_1_FOOD             5.0   \n",
       "\n",
       "   quantity  total_spent  payment_method  location transaction_date  \\\n",
       "0      10.0        185.0  Digital Wallet    Online       2024-04-08   \n",
       "1       9.0        261.0  Digital Wallet    Online       2023-07-23   \n",
       "2       2.0         43.0     Credit Card    Online       2022-10-05   \n",
       "4       7.0         87.5  Digital Wallet    Online       2022-10-02   \n",
       "6       8.0         40.0     Credit Card  In-store       2023-06-10   \n",
       "\n",
       "  discount_applied  \n",
       "0             True  \n",
       "1             True  \n",
       "2            False  \n",
       "4            False  \n",
       "6             True  "
      ]
     },
     "execution_count": 17,
     "metadata": {},
     "output_type": "execute_result"
    }
   ],
   "source": [
    "df_cleaned.head()"
   ]
  },
  {
   "cell_type": "code",
   "execution_count": 19,
   "id": "55b10e65-65ee-4b3b-8d59-bc319837a9a3",
   "metadata": {},
   "outputs": [
    {
     "name": "stdout",
     "output_type": "stream",
     "text": [
      "<class 'pandas.core.frame.DataFrame'>\n",
      "Index: 7579 entries, 0 to 12573\n",
      "Data columns (total 11 columns):\n",
      " #   Column            Non-Null Count  Dtype         \n",
      "---  ------            --------------  -----         \n",
      " 0   transaction_id    7579 non-null   object        \n",
      " 1   customer_id       7579 non-null   object        \n",
      " 2   category          7579 non-null   object        \n",
      " 3   item              7579 non-null   object        \n",
      " 4   price_per_unit    7579 non-null   float64       \n",
      " 5   quantity          7579 non-null   float64       \n",
      " 6   total_spent       7579 non-null   float64       \n",
      " 7   payment_method    7579 non-null   object        \n",
      " 8   location          7579 non-null   object        \n",
      " 9   transaction_date  7579 non-null   datetime64[ns]\n",
      " 10  discount_applied  7579 non-null   object        \n",
      "dtypes: datetime64[ns](1), float64(3), object(7)\n",
      "memory usage: 710.5+ KB\n"
     ]
    }
   ],
   "source": [
    "df_cleaned.info()"
   ]
  },
  {
   "cell_type": "code",
   "execution_count": 20,
   "id": "c4666093-d00f-402d-8012-9993ce26d30c",
   "metadata": {},
   "outputs": [
    {
     "name": "stdout",
     "output_type": "stream",
     "text": [
      "Has duplicates: False\n"
     ]
    }
   ],
   "source": [
    "has_duplicates = df['transaction_id'].duplicated().any()\n",
    "print(f\"Has duplicates: {has_duplicates}\")"
   ]
  },
  {
   "cell_type": "code",
   "execution_count": 21,
   "id": "c4774b9d-a94a-46b8-9737-d3128271f8f4",
   "metadata": {},
   "outputs": [
    {
     "name": "stdout",
     "output_type": "stream",
     "text": [
      "Percentage of null values per column:\n",
      "transaction_id      0.0\n",
      "customer_id         0.0\n",
      "category            0.0\n",
      "item                0.0\n",
      "price_per_unit      0.0\n",
      "quantity            0.0\n",
      "total_spent         0.0\n",
      "payment_method      0.0\n",
      "location            0.0\n",
      "transaction_date    0.0\n",
      "discount_applied    0.0\n",
      "dtype: float64\n"
     ]
    }
   ],
   "source": [
    "# Calculate percentage of null values per column\n",
    "null_percentage = (df_cleaned.isnull().sum() / len(df)) * 100\n",
    "\n",
    "# Display results\n",
    "print(\"Percentage of null values per column:\")\n",
    "print(null_percentage)"
   ]
  },
  {
   "cell_type": "code",
   "execution_count": 26,
   "id": "d0e57db1-705a-4edc-85d8-2ca63d6edf24",
   "metadata": {},
   "outputs": [],
   "source": [
    "df['category'] = df['category'].astype('category')"
   ]
  },
  {
   "cell_type": "code",
   "execution_count": 27,
   "id": "d2d7742d-1a92-4620-b649-5e97b6f35a57",
   "metadata": {},
   "outputs": [],
   "source": [
    "df_cleaned = df.dropna()"
   ]
  },
  {
   "cell_type": "code",
   "execution_count": 28,
   "id": "12cf5abb-dc4b-447f-a535-ad5bd088c64f",
   "metadata": {},
   "outputs": [
    {
     "name": "stdout",
     "output_type": "stream",
     "text": [
      "<class 'pandas.core.frame.DataFrame'>\n",
      "Index: 7579 entries, 0 to 12573\n",
      "Data columns (total 11 columns):\n",
      " #   Column            Non-Null Count  Dtype         \n",
      "---  ------            --------------  -----         \n",
      " 0   transaction_id    7579 non-null   object        \n",
      " 1   customer_id       7579 non-null   object        \n",
      " 2   category          7579 non-null   category      \n",
      " 3   item              7579 non-null   object        \n",
      " 4   price_per_unit    7579 non-null   float64       \n",
      " 5   quantity          7579 non-null   float64       \n",
      " 6   total_spent       7579 non-null   float64       \n",
      " 7   payment_method    7579 non-null   object        \n",
      " 8   location          7579 non-null   object        \n",
      " 9   transaction_date  7579 non-null   datetime64[ns]\n",
      " 10  discount_applied  7579 non-null   object        \n",
      "dtypes: category(1), datetime64[ns](1), float64(3), object(6)\n",
      "memory usage: 659.1+ KB\n"
     ]
    }
   ],
   "source": [
    "df_cleaned.info()\n"
   ]
  },
  {
   "cell_type": "code",
   "execution_count": 24,
   "id": "b6291578-59e0-44d5-8e4c-c522e7171a4b",
   "metadata": {},
   "outputs": [
    {
     "data": {
      "text/plain": [
       "(7579, 11)"
      ]
     },
     "execution_count": 24,
     "metadata": {},
     "output_type": "execute_result"
    }
   ],
   "source": [
    "df_cleaned.shape"
   ]
  },
  {
   "cell_type": "code",
   "execution_count": 29,
   "id": "3043ab58-956b-43ad-82b6-d0643491117b",
   "metadata": {},
   "outputs": [],
   "source": [
    "df_cleaned.to_csv('cleaned_Data.csv', index=False)"
   ]
  },
  {
   "cell_type": "code",
   "execution_count": null,
   "id": "a2ea1b03-eb01-4186-8fc6-10ec800985ea",
   "metadata": {},
   "outputs": [],
   "source": []
  }
 ],
 "metadata": {
  "kernelspec": {
   "display_name": "Python 3 (ipykernel)",
   "language": "python",
   "name": "python3"
  },
  "language_info": {
   "codemirror_mode": {
    "name": "ipython",
    "version": 3
   },
   "file_extension": ".py",
   "mimetype": "text/x-python",
   "name": "python",
   "nbconvert_exporter": "python",
   "pygments_lexer": "ipython3",
   "version": "3.12.9"
  }
 },
 "nbformat": 4,
 "nbformat_minor": 5
}
